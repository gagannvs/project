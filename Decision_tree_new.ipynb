{
 "cells": [
  {
   "cell_type": "code",
   "execution_count": 4,
   "metadata": {},
   "outputs": [
    {
     "name": "stdout",
     "output_type": "stream",
     "text": [
      "\n",
      " Given play tennis data set:\n",
      "\n",
      "      outlook  temp humidity    wind play?\n",
      "0      sunny   hot     high    weak    no\n",
      "1      sunny   hot     high  strong    no\n",
      "2   overcast   hot     high    weak   yes\n",
      "3       rain  mild     high    weak   yes\n",
      "4       rain  cool   normal    weak   yes\n",
      "5       rain  cool   normal  strong    no\n",
      "6   overcast  cool   normal  strong   yes\n",
      "7      sunny  mild     high    weak    no\n",
      "8      sunny  cool   normal    weak   yes\n",
      "9       rain  mild   normal    weak   yes\n",
      "10     sunny  mild   normal  strong   yes\n",
      "11  overcast  mild     high  strong   yes\n",
      "12  overcast   hot   normal    weak   yes\n",
      "13      rain  mild     high  strong    no\n",
      "\n",
      " Total entropy of play tennis dataset: 0.9402859586706309\n"
     ]
    }
   ],
   "source": [
    "import pandas as pd\n",
    "df_tennis=pd.read_csv('E:/SJBIT/NOTES 7TH SEM/ML/ml lab/3.csv')\n",
    "print(\"\\n Given play tennis data set:\\n\\n\",df_tennis)\n",
    "def entropy(probs):\n",
    "    import math\n",
    "    return sum([-prob*math.log(prob,2) for prob in probs])\n",
    "def entropy_of_list(a_list):\n",
    "    from collections import Counter\n",
    "    cnt=Counter(x for x in a_list)\n",
    "    num_instances=len(a_list)\n",
    "    probs=[x/num_instances for x in cnt.values()]\n",
    "    return entropy(probs)\n",
    "total_entropy=entropy_of_list(df_tennis['play?'])\n",
    "print(\"\\n Total entropy of play tennis dataset:\",total_entropy)"
   ]
  },
  {
   "cell_type": "code",
   "execution_count": 5,
   "metadata": {},
   "outputs": [],
   "source": [
    "def information_gain(df,split_attribute_name,target_attribute_name,\n",
    "trace=0):\n",
    "    df_split=df.groupby(split_attribute_name)\n",
    "    for name,group in df_split:\n",
    "        nobs=len(df.index)\n",
    "    df_agg_cnt=df_split.agg({target_attribute_name:[entropy_of_list,lambda\n",
    "x:len(x)/nobs]})[target_attribute_name]\n",
    "    df_agg_cnt.columns=['Entropy','Propobservations']\n",
    "    if trace:\n",
    "        print(df_agg_cnt)\n",
    "    new_entropy=sum(df_agg_cnt['Entropy']*df_agg_cnt['Propobservations'])\n",
    "    old_entropy=entropy_of_list(df[target_attribute_name])\n",
    "    return old_entropy-new_entropy"
   ]
  },
  {
   "cell_type": "code",
   "execution_count": 6,
   "metadata": {},
   "outputs": [
    {
     "name": "stdout",
     "output_type": "stream",
     "text": [
      "info-gain for Outlook is :0.2467498197744391 \n",
      "\n",
      "Info-gain for Humidity is:0.15183550136234136 \n",
      "\n",
      "Info-gain for Wind is:0.04812703040826927 \n",
      "\n",
      "Info-gain for Temperature is:0.029222565658954647 \n",
      "\n"
     ]
    }
   ],
   "source": [
    "print('info-gain for Outlook is :'+str(information_gain(df_tennis,'outlook','play?')),\"\\n\")\n",
    "print('Info-gain for Humidity is:'+str(information_gain(df_tennis,'humidity', 'play?')),\"\\n\")\n",
    "print('Info-gain for Wind is:'+str(information_gain(df_tennis,'wind','play?')),\"\\n\")\n",
    "print('Info-gain for Temperature is:'+str(information_gain(df_tennis,'temp', 'play?')),\"\\n\")"
   ]
  },
  {
   "cell_type": "code",
   "execution_count": 7,
   "metadata": {},
   "outputs": [
    {
     "name": "stdout",
     "output_type": "stream",
     "text": [
      "\n",
      "\n",
      "The Resultant Decision Tree is:\n",
      "\n",
      "{'outlook': {'overcast': 'yes',\n",
      "             'rain': {'wind': {'strong': 'no', 'weak': 'yes'}},\n",
      "             'sunny': {'humidity': {'high': 'no', 'normal': 'yes'}}}}\n"
     ]
    }
   ],
   "source": [
    "def id3(df,target_attribute_name,attribute_names,default_class=None):\n",
    "    from collections import Counter\n",
    "    cnt=Counter(x for x in df[target_attribute_name])\n",
    "    if len(cnt)==1:\n",
    "        return next(iter(cnt))\n",
    "    elif df.empty or (not attribute_names):\n",
    "        return default_class\n",
    "    else:\n",
    "        default_class=max(cnt.keys())\n",
    "\n",
    "    gainz=[information_gain(df,attr,target_attribute_name) for attr in attribute_names]\n",
    "    index_of_max=gainz.index(max(gainz)) # Index of Best Attribute\n",
    "    best_attr=attribute_names[index_of_max]\n",
    "    tree={best_attr:{}} # Initiate the tree with best attribute as a node \n",
    "    remaining_attribute_names=[i for i in attribute_names if i!=best_attr]\n",
    "    for attr_val,data_subset in df.groupby(best_attr):\n",
    "        subtree=id3(data_subset,target_attribute_name,remaining_attribute_names,default_class)\n",
    "        tree[best_attr][attr_val] =subtree\n",
    "    return tree\n",
    "\n",
    "attribute_names=list(df_tennis.columns)\n",
    "attribute_names.remove('play?') #Remove the class attribute\n",
    "from pprint import pprint #pprint means pretty print\n",
    "tree=id3(df_tennis,'play?',attribute_names)\n",
    "print(\"\\n\\nThe Resultant Decision Tree is:\\n\")\n",
    "pprint(tree)\n"
   ]
  },
  {
   "cell_type": "code",
   "execution_count": 8,
   "metadata": {},
   "outputs": [
    {
     "name": "stdout",
     "output_type": "stream",
     "text": [
      "Sample:\n",
      "{'outlook': 'sunny', 'temp': 'hot', 'humidity': 'high', 'wind': 'weak'}\n",
      "\n",
      "Can tennis be played for the given sample: no\n"
     ]
    }
   ],
   "source": [
    "def predict(query,tree,default=1):\n",
    "    for key in list(query.keys()):\n",
    "        if key in list(tree.keys()):\n",
    "            try:\n",
    "                result = tree[key][query[key]]\n",
    "            except:\n",
    "                return default\n",
    "            result = tree[key][query[key]]\n",
    "            if isinstance(result,dict):\n",
    "                return predict(query,result)\n",
    "            else:\n",
    "                return result\n",
    "\n",
    "query={'outlook':'sunny','temp':'hot','humidity':'high','wind':'weak'}\n",
    "answer=predict(query,tree)\n",
    "print(\"Sample:\")\n",
    "print(query)\n",
    "print('\\nCan tennis be played for the given sample: '+answer)"
   ]
  },
  {
   "cell_type": "code",
   "execution_count": null,
   "metadata": {},
   "outputs": [],
   "source": []
  }
 ],
 "metadata": {
  "kernelspec": {
   "display_name": "Python 3",
   "language": "python",
   "name": "python3"
  },
  "language_info": {
   "codemirror_mode": {
    "name": "ipython",
    "version": 3
   },
   "file_extension": ".py",
   "mimetype": "text/x-python",
   "name": "python",
   "nbconvert_exporter": "python",
   "pygments_lexer": "ipython3",
   "version": "3.8.3"
  }
 },
 "nbformat": 4,
 "nbformat_minor": 2
}
